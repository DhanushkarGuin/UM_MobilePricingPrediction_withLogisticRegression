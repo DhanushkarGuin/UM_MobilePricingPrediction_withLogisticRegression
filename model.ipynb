{
 "cells": [
  {
   "cell_type": "markdown",
   "id": "c3fda44c",
   "metadata": {},
   "source": [
    "# Project : Mobile Pricing Prediction\n"
   ]
  },
  {
   "cell_type": "markdown",
   "id": "8726b5ce",
   "metadata": {},
   "source": [
    "Cell 1 - Imports"
   ]
  },
  {
   "cell_type": "code",
   "execution_count": null,
   "id": "f2567b58",
   "metadata": {},
   "outputs": [],
   "source": [
    "import pandas as pd\n",
    "from sklearn.model_selection import train_test_split\n",
    "from sklearn.linear_model import LogisticRegression\n",
    "from sklearn.preprocessing import StandardScaler\n",
    "from sklearn.pipeline import Pipeline\n",
    "from sklearn.metrics import accuracy_score, precision_score, recall_score\n",
    "import pickle"
   ]
  },
  {
   "cell_type": "markdown",
   "id": "3af70df8",
   "metadata": {},
   "source": [
    "Cell 2 - Load and Prepare Data"
   ]
  },
  {
   "cell_type": "code",
   "execution_count": null,
   "id": "7cb5f2e3",
   "metadata": {},
   "outputs": [],
   "source": [
    "dataset = pd.read_csv('dataset.csv')\n",
    "X = dataset.iloc[:, :-1]\n",
    "Y = dataset.iloc[:, -1].values"
   ]
  },
  {
   "cell_type": "markdown",
   "id": "8434f4e4",
   "metadata": {},
   "source": [
    "Cell 3 - Spliting data for training and testing"
   ]
  },
  {
   "cell_type": "code",
   "execution_count": null,
   "id": "aefb81c8",
   "metadata": {},
   "outputs": [],
   "source": [
    "X_train, X_test, Y_train, Y_test = train_test_split(X, Y, test_size=0.2, random_state=42)"
   ]
  },
  {
   "cell_type": "markdown",
   "id": "6372345e",
   "metadata": {},
   "source": [
    "Cell 4 – Create and train the pipeline\n",
    "\n"
   ]
  },
  {
   "cell_type": "code",
   "execution_count": null,
   "id": "0c5d10a2",
   "metadata": {},
   "outputs": [],
   "source": [
    "pipeline = Pipeline([\n",
    "    ('scaler', StandardScaler()),\n",
    "    ('logreg', LogisticRegression(max_iter=10000, solver='lbfgs'))\n",
    "])\n",
    "\n",
    "pipeline.fit(X_train, Y_train)"
   ]
  },
  {
   "cell_type": "markdown",
   "id": "e0fa520f",
   "metadata": {},
   "source": [
    "Cell 5 - Predict and evaluate"
   ]
  },
  {
   "cell_type": "code",
   "execution_count": null,
   "id": "5fb77a43",
   "metadata": {},
   "outputs": [],
   "source": [
    "Y_pred = pipeline.predict(X_test)\n",
    "\n",
    "print(\"Accuracy:\", accuracy_score(Y_test, Y_pred))\n",
    "print(\"Precision:\", precision_score(Y_test, Y_pred, average='weighted'))\n",
    "print(\"Recall:\", recall_score(Y_test, Y_pred, average='weighted'))"
   ]
  },
  {
   "cell_type": "markdown",
   "id": "16c3d8f6",
   "metadata": {},
   "source": [
    "Cell 6: Save the trained pipeline"
   ]
  },
  {
   "cell_type": "code",
   "execution_count": null,
   "id": "f5ddd618",
   "metadata": {},
   "outputs": [],
   "source": [
    "pickle.dump(pipeline,open('pipeline.pkl','wb'))"
   ]
  }
 ],
 "metadata": {
  "language_info": {
   "name": "python"
  }
 },
 "nbformat": 4,
 "nbformat_minor": 5
}
