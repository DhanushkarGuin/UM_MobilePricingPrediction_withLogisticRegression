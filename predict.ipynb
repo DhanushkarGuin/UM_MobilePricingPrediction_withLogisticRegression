{
 "cells": [
  {
   "cell_type": "markdown",
   "id": "a699055b",
   "metadata": {},
   "source": [
    "Cell 1: Import required libraries"
   ]
  },
  {
   "cell_type": "code",
   "execution_count": null,
   "id": "8c97ff63",
   "metadata": {},
   "outputs": [],
   "source": [
    "import pickle\n",
    "import pandas as pd"
   ]
  },
  {
   "cell_type": "markdown",
   "id": "dd59b2a8",
   "metadata": {},
   "source": [
    "Cell 2: Load the trained pipeline"
   ]
  },
  {
   "cell_type": "code",
   "execution_count": null,
   "id": "7ac55e64",
   "metadata": {},
   "outputs": [],
   "source": [
    "pipeline = pickle.load(open('pipeline.pkl', 'rb'))"
   ]
  },
  {
   "cell_type": "markdown",
   "id": "5b104844",
   "metadata": {},
   "source": [
    "Cell 3: Define the feature column names"
   ]
  },
  {
   "cell_type": "code",
   "execution_count": null,
   "id": "179761ca",
   "metadata": {},
   "outputs": [],
   "source": [
    "columns = [\n",
    "    'battery_power', 'blue', 'clock_speed', 'dual_sim', 'fc', 'four_g',\n",
    "    'int_memory', 'm_dep', 'mobile_wt', 'n_cores', 'pc', 'px_height',\n",
    "    'px_width', 'ram', 'sc_h', 'sc_w', 'talk_time', 'three_g',\n",
    "    'touch_screen', 'wifi'\n",
    "]"
   ]
  },
  {
   "cell_type": "markdown",
   "id": "e334918d",
   "metadata": {},
   "source": [
    "Cell 4: Accept or define user input"
   ]
  },
  {
   "cell_type": "code",
   "execution_count": null,
   "id": "f96f6c36",
   "metadata": {},
   "outputs": [],
   "source": [
    "test_input = pd.DataFrame([[1000, 1, 2.1, 1, 13, 1, 33, 0.6, 139, 8, 2, 1263, 1716, 3220, 16, 3, 19, 1, 1, 1]],columns=columns)"
   ]
  },
  {
   "cell_type": "markdown",
   "id": "af2b4b29",
   "metadata": {},
   "source": [
    "Cell 5: Prediction"
   ]
  },
  {
   "cell_type": "code",
   "execution_count": null,
   "id": "e06759db",
   "metadata": {},
   "outputs": [],
   "source": [
    "prediction = pipeline.predict(test_input)\n",
    "print(prediction)"
   ]
  }
 ],
 "metadata": {
  "language_info": {
   "name": "python"
  }
 },
 "nbformat": 4,
 "nbformat_minor": 5
}
